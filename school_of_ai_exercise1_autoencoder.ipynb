{
  "nbformat": 4,
  "nbformat_minor": 0,
  "metadata": {
    "colab": {
      "name": "school-of-ai-exercise1-autoencoder.ipynb",
      "version": "0.3.2",
      "provenance": [],
      "include_colab_link": true
    },
    "kernelspec": {
      "name": "python3",
      "display_name": "Python 3"
    }
  },
  "cells": [
    {
      "cell_type": "markdown",
      "metadata": {
        "id": "view-in-github",
        "colab_type": "text"
      },
      "source": [
        "<a href=\"https://colab.research.google.com/github/hoenickf/school-of-ai-exercise1-autoencoder/blob/master/school_of_ai_exercise1_autoencoder.ipynb\" target=\"_parent\"><img src=\"https://colab.research.google.com/assets/colab-badge.svg\" alt=\"Open In Colab\"/></a>"
      ]
    },
    {
      "cell_type": "code",
      "metadata": {
        "id": "f2KerEyIbezg",
        "colab_type": "code",
        "colab": {}
      },
      "source": [
        "from __future__ import division, print_function, absolute_import\n",
        "\n",
        "import tensorflow as tf\n",
        "import numpy as np\n",
        "import matplotlib.pyplot as plt"
      ],
      "execution_count": 0,
      "outputs": []
    },
    {
      "cell_type": "code",
      "metadata": {
        "id": "-O_9BXJ2bi7N",
        "colab_type": "code",
        "colab": {
          "base_uri": "https://localhost:8080/",
          "height": 87
        },
        "outputId": "ba7450d2-7048-4ea9-913b-e11533bb54c5"
      },
      "source": [
        "# Import MNIST data set (handwritten digits)\n",
        "from tensorflow.examples.tutorials.mnist import input_data\n",
        "mnist = input_data.read_data_sets(\"/tmp/data/\", one_hot=True)"
      ],
      "execution_count": 28,
      "outputs": [
        {
          "output_type": "stream",
          "text": [
            "Extracting /tmp/data/train-images-idx3-ubyte.gz\n",
            "Extracting /tmp/data/train-labels-idx1-ubyte.gz\n",
            "Extracting /tmp/data/t10k-images-idx3-ubyte.gz\n",
            "Extracting /tmp/data/t10k-labels-idx1-ubyte.gz\n"
          ],
          "name": "stdout"
        }
      ]
    },
    {
      "cell_type": "code",
      "metadata": {
        "id": "vBZmxT1fb2J-",
        "colab_type": "code",
        "colab": {}
      },
      "source": [
        "# Training Parameters\n",
        "learning_rate = 0.01\n",
        "num_steps = 20000\n",
        "batch_size = 128\n",
        "\n",
        "display_step = 500\n",
        "examples_to_show = 10\n",
        "\n",
        "# Network Parameters\n",
        "num_hidden_1 = 128 # 1st layer num features\n",
        "num_hidden_2 = 64 # 2nd layer num features (the latent dim)\n",
        "num_input = 784 # MNIST data input (img shape: 28*28)"
      ],
      "execution_count": 0,
      "outputs": []
    },
    {
      "cell_type": "code",
      "metadata": {
        "id": "2T5IBO7rcAx_",
        "colab_type": "code",
        "colab": {}
      },
      "source": [
        "# tf Graph input (only pictures)\n",
        "X = tf.placeholder(\"float\", [None, num_input])"
      ],
      "execution_count": 0,
      "outputs": []
    },
    {
      "cell_type": "code",
      "metadata": {
        "id": "v0MpnNhfcG-d",
        "colab_type": "code",
        "colab": {}
      },
      "source": [
        "weights = {\n",
        "    'encoder_h1': tf.Variable(tf.random_normal([num_input, num_hidden_1])),\n",
        "    'encoder_h2': tf.Variable(tf.random_normal([num_hidden_1, num_hidden_2])),\n",
        "    'decoder_h1': tf.Variable(tf.random_normal([num_hidden_2, num_hidden_1])),\n",
        "    'decoder_h2': tf.Variable(tf.random_normal([num_hidden_1, num_input])),\n",
        "}\n",
        "biases = {\n",
        "    'encoder_b1': tf.Variable(tf.random_normal([num_hidden_1])),\n",
        "    'encoder_b2': tf.Variable(tf.random_normal([num_hidden_2])),\n",
        "    'decoder_b1': tf.Variable(tf.random_normal([num_hidden_1])),\n",
        "    'decoder_b2': tf.Variable(tf.random_normal([num_input])),\n",
        "}"
      ],
      "execution_count": 0,
      "outputs": []
    },
    {
      "cell_type": "code",
      "metadata": {
        "id": "NOjqPeYzcKmr",
        "colab_type": "code",
        "colab": {}
      },
      "source": [
        "# Building the encoder\n",
        "def encoder(x):\n",
        "    # Encoder Hidden layer with sigmoid activation #1\n",
        "    layer_1 = tf.nn.sigmoid(tf.add(tf.matmul(x, weights['encoder_h1']),\n",
        "                                   biases['encoder_b1']))\n",
        "    # Encoder Hidden layer with sigmoid activation #2\n",
        "    layer_2 = tf.nn.sigmoid(tf.add(tf.matmul(layer_1, weights['encoder_h2']),\n",
        "                                   biases['encoder_b2']))\n",
        "    return layer_2\n"
      ],
      "execution_count": 0,
      "outputs": []
    },
    {
      "cell_type": "code",
      "metadata": {
        "id": "NNP4C6_vcMzg",
        "colab_type": "code",
        "colab": {}
      },
      "source": [
        "# Building the decoder\n",
        "def decoder(x):\n",
        "    # Decoder Hidden layer with sigmoid activation #1\n",
        "    layer_1 = tf.nn.sigmoid(tf.add(tf.matmul(x, weights['decoder_h1']),\n",
        "                                   biases['decoder_b1']))\n",
        "    # Decoder Hidden layer with sigmoid activation #2\n",
        "    layer_2 = tf.nn.sigmoid(tf.add(tf.matmul(layer_1, weights['decoder_h2']),\n",
        "                                   biases['decoder_b2']))\n",
        "    return layer_2"
      ],
      "execution_count": 0,
      "outputs": []
    },
    {
      "cell_type": "code",
      "metadata": {
        "id": "B6Re_WSecZSa",
        "colab_type": "code",
        "colab": {}
      },
      "source": [
        "# Construct model\n",
        "encoder_op = encoder(X)\n",
        "decoder_op = decoder(encoder_op)\n"
      ],
      "execution_count": 0,
      "outputs": []
    },
    {
      "cell_type": "code",
      "metadata": {
        "id": "ill_fnUOcbdr",
        "colab_type": "code",
        "colab": {}
      },
      "source": [
        "# Prediction\n",
        "y_pred = decoder_op\n",
        "# Targets (Labels) are the input data.\n",
        "y_true = X"
      ],
      "execution_count": 0,
      "outputs": []
    },
    {
      "cell_type": "code",
      "metadata": {
        "id": "zyT6qrYZcd1X",
        "colab_type": "code",
        "colab": {}
      },
      "source": [
        "# Define loss and optimizer, minimize the squared error\n",
        "loss = tf.reduce_mean(tf.pow(y_true - y_pred, 2))\n",
        "optimizer = tf.train.RMSPropOptimizer(learning_rate).minimize(loss)"
      ],
      "execution_count": 0,
      "outputs": []
    },
    {
      "cell_type": "code",
      "metadata": {
        "id": "UAiJdsZVcftv",
        "colab_type": "code",
        "colab": {}
      },
      "source": [
        "# Initialize the variables (i.e. assign their default value)\n",
        "init = tf.global_variables_initializer()\n"
      ],
      "execution_count": 0,
      "outputs": []
    },
    {
      "cell_type": "code",
      "metadata": {
        "id": "RS_NRp0Nckph",
        "colab_type": "code",
        "colab": {
          "base_uri": "https://localhost:8080/",
          "height": 1267
        },
        "outputId": "2aafd6c0-763a-450a-a422-c52f01e689fb"
      },
      "source": [
        "# Start Training\n",
        "# Start a new TF session\n",
        "with tf.Session() as sess:\n",
        "\n",
        "    # Run the initializer\n",
        "    sess.run(init)\n",
        "\n",
        "    # Training\n",
        "    for i in range(1, num_steps+1):\n",
        "        # Prepare Data\n",
        "        # Get the next batch of MNIST data (only images are needed, not labels)\n",
        "        batch_x, _ = mnist.train.next_batch(batch_size)\n",
        "\n",
        "        # Run optimization op (backprop) and cost op (to get loss value)\n",
        "        _, l = sess.run([optimizer, loss], feed_dict={X: batch_x})\n",
        "        # Display logs per step\n",
        "        if i % display_step == 0 or i == 1:\n",
        "            print('Step %i: Minibatch Loss: %f' % (i, l))\n",
        "\n",
        "    # Testing\n",
        "    # Encode and decode images from test set and visualize their reconstruction.\n",
        "    n = 4\n",
        "    canvas_orig = np.empty((28 * n, 28 * n))\n",
        "    canvas_recon = np.empty((28 * n, 28 * n))\n",
        "    for i in range(n):\n",
        "        # MNIST test set\n",
        "        batch_x, _ = mnist.test.next_batch(n)\n",
        "        # Encode and decode the digit image\n",
        "        g = sess.run(decoder_op, feed_dict={X: batch_x})\n",
        "\n",
        "        # Display original images\n",
        "        for j in range(n):\n",
        "            # Draw the original digits\n",
        "            canvas_orig[i * 28:(i + 1) * 28, j * 28:(j + 1) * 28] = \\\n",
        "                batch_x[j].reshape([28, 28])\n",
        "        # Display reconstructed images\n",
        "        for j in range(n):\n",
        "            # Draw the reconstructed digits\n",
        "            canvas_recon[i * 28:(i + 1) * 28, j * 28:(j + 1) * 28] = \\\n",
        "                g[j].reshape([28, 28])\n",
        "\n",
        "    print(\"Original Images\")\n",
        "    plt.figure(figsize=(n, n))\n",
        "    plt.imshow(canvas_orig, origin=\"upper\", cmap=\"gray\")\n",
        "    plt.show()\n",
        "\n",
        "    print(\"Reconstructed Images\")\n",
        "    plt.figure(figsize=(n, n))\n",
        "    plt.imshow(canvas_recon, origin=\"upper\", cmap=\"gray\")\n",
        "    plt.show()"
      ],
      "execution_count": 38,
      "outputs": [
        {
          "output_type": "stream",
          "text": [
            "Step 1: Minibatch Loss: 0.429188\n",
            "Step 500: Minibatch Loss: 0.093347\n",
            "Step 1000: Minibatch Loss: 0.076530\n",
            "Step 1500: Minibatch Loss: 0.063407\n",
            "Step 2000: Minibatch Loss: 0.058908\n",
            "Step 2500: Minibatch Loss: 0.053061\n",
            "Step 3000: Minibatch Loss: 0.053453\n",
            "Step 3500: Minibatch Loss: 0.048860\n",
            "Step 4000: Minibatch Loss: 0.048389\n",
            "Step 4500: Minibatch Loss: 0.044984\n",
            "Step 5000: Minibatch Loss: 0.039618\n",
            "Step 5500: Minibatch Loss: 0.041616\n",
            "Step 6000: Minibatch Loss: 0.037721\n",
            "Step 6500: Minibatch Loss: 0.037601\n",
            "Step 7000: Minibatch Loss: 0.036183\n",
            "Step 7500: Minibatch Loss: 0.036102\n",
            "Step 8000: Minibatch Loss: 0.032661\n",
            "Step 8500: Minibatch Loss: 0.033785\n",
            "Step 9000: Minibatch Loss: 0.032245\n",
            "Step 9500: Minibatch Loss: 0.031895\n",
            "Step 10000: Minibatch Loss: 0.030826\n",
            "Step 10500: Minibatch Loss: 0.029469\n",
            "Step 11000: Minibatch Loss: 0.030900\n",
            "Step 11500: Minibatch Loss: 0.029036\n",
            "Step 12000: Minibatch Loss: 0.030016\n",
            "Step 12500: Minibatch Loss: 0.027480\n",
            "Step 13000: Minibatch Loss: 0.029481\n",
            "Step 13500: Minibatch Loss: 0.027831\n",
            "Step 14000: Minibatch Loss: 0.029987\n",
            "Step 14500: Minibatch Loss: 0.027195\n",
            "Step 15000: Minibatch Loss: 0.026643\n",
            "Step 15500: Minibatch Loss: 0.026540\n",
            "Step 16000: Minibatch Loss: 0.024593\n",
            "Step 16500: Minibatch Loss: 0.025796\n",
            "Step 17000: Minibatch Loss: 0.026417\n",
            "Step 17500: Minibatch Loss: 0.024251\n",
            "Step 18000: Minibatch Loss: 0.024307\n",
            "Step 18500: Minibatch Loss: 0.021811\n",
            "Step 19000: Minibatch Loss: 0.020837\n",
            "Step 19500: Minibatch Loss: 0.023919\n",
            "Step 20000: Minibatch Loss: 0.021739\n",
            "Original Images\n"
          ],
          "name": "stdout"
        },
        {
          "output_type": "display_data",
          "data": {
            "image/png": "[encoded data removed]",
            "text/plain": [
              "<Figure size 288x288 with 1 Axes>"
            ]
          },
          "metadata": {
            "tags": []
          }
        },
        {
          "output_type": "stream",
          "text": [
            "Reconstructed Images\n"
          ],
          "name": "stdout"
        },
        {
          "output_type": "display_data",
          "data": {
            "image/png": "[encoded data removed]",
            "text/plain": [
              "<Figure size 288x288 with 1 Axes>"
            ]
          },
          "metadata": {
            "tags": []
          }
        }
      ]
    }
  ]
}